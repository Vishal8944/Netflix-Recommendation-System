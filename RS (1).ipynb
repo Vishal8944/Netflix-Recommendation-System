{
 "cells": [
  {
   "cell_type": "code",
   "execution_count": 1,
   "id": "69c7eed5-b1c6-408c-839a-723a499bcea2",
   "metadata": {},
   "outputs": [],
   "source": [
    "import pandas as pd\n",
    "import numpy as np\n",
    "import matplotlib.pyplot as plt\n",
    "from sklearn.feature_extraction.text import TfidfVectorizer\n",
    "from sklearn.metrics.pairwise import cosine_similarity"
   ]
  },
  {
   "cell_type": "code",
   "execution_count": 14,
   "id": "5a4dcb3f-9a6a-4289-9a72-5ab33b04d8f3",
   "metadata": {},
   "outputs": [
    {
     "data": {
      "text/html": [
       "<div>\n",
       "<style scoped>\n",
       "    .dataframe tbody tr th:only-of-type {\n",
       "        vertical-align: middle;\n",
       "    }\n",
       "\n",
       "    .dataframe tbody tr th {\n",
       "        vertical-align: top;\n",
       "    }\n",
       "\n",
       "    .dataframe thead th {\n",
       "        text-align: right;\n",
       "    }\n",
       "</style>\n",
       "<table border=\"1\" class=\"dataframe\">\n",
       "  <thead>\n",
       "    <tr style=\"text-align: right;\">\n",
       "      <th></th>\n",
       "      <th>imdb_id</th>\n",
       "      <th>title</th>\n",
       "      <th>type</th>\n",
       "      <th>rating</th>\n",
       "      <th>numVotes</th>\n",
       "      <th>genres</th>\n",
       "      <th>isAdult</th>\n",
       "    </tr>\n",
       "  </thead>\n",
       "  <tbody>\n",
       "    <tr>\n",
       "      <th>0</th>\n",
       "      <td>tt4052886</td>\n",
       "      <td>Lucifer</td>\n",
       "      <td>tvSeries</td>\n",
       "      <td>8.1</td>\n",
       "      <td>250884.0</td>\n",
       "      <td>Crime,Drama,Fantasy</td>\n",
       "      <td>0</td>\n",
       "    </tr>\n",
       "    <tr>\n",
       "      <th>1</th>\n",
       "      <td>tt0993840</td>\n",
       "      <td>Army of the Dead</td>\n",
       "      <td>movie</td>\n",
       "      <td>5.8</td>\n",
       "      <td>110780.0</td>\n",
       "      <td>Action,Crime,Horror</td>\n",
       "      <td>0</td>\n",
       "    </tr>\n",
       "    <tr>\n",
       "      <th>2</th>\n",
       "      <td>tt7255502</td>\n",
       "      <td>The Kominsky Method</td>\n",
       "      <td>tvSeries</td>\n",
       "      <td>8.2</td>\n",
       "      <td>28795.0</td>\n",
       "      <td>Comedy,Drama</td>\n",
       "      <td>0</td>\n",
       "    </tr>\n",
       "    <tr>\n",
       "      <th>3</th>\n",
       "      <td>tt0108778</td>\n",
       "      <td>Friends</td>\n",
       "      <td>tvSeries</td>\n",
       "      <td>8.9</td>\n",
       "      <td>861843.0</td>\n",
       "      <td>Comedy,Romance</td>\n",
       "      <td>0</td>\n",
       "    </tr>\n",
       "    <tr>\n",
       "      <th>4</th>\n",
       "      <td>tt9251798</td>\n",
       "      <td>Ragnarok</td>\n",
       "      <td>tvSeries</td>\n",
       "      <td>7.5</td>\n",
       "      <td>26606.0</td>\n",
       "      <td>Action,Drama,Fantasy</td>\n",
       "      <td>0</td>\n",
       "    </tr>\n",
       "    <tr>\n",
       "      <th>...</th>\n",
       "      <td>...</td>\n",
       "      <td>...</td>\n",
       "      <td>...</td>\n",
       "      <td>...</td>\n",
       "      <td>...</td>\n",
       "      <td>...</td>\n",
       "      <td>...</td>\n",
       "    </tr>\n",
       "    <tr>\n",
       "      <th>7003</th>\n",
       "      <td>tt9777386</td>\n",
       "      <td>Merry Happy Whatever</td>\n",
       "      <td>tvEpisode</td>\n",
       "      <td>6.1</td>\n",
       "      <td>221.0</td>\n",
       "      <td>Comedy</td>\n",
       "      <td>0</td>\n",
       "    </tr>\n",
       "    <tr>\n",
       "      <th>7004</th>\n",
       "      <td>tt9790434</td>\n",
       "      <td>The Morning Show</td>\n",
       "      <td>tvEpisode</td>\n",
       "      <td>NaN</td>\n",
       "      <td>NaN</td>\n",
       "      <td>\\N</td>\n",
       "      <td>0</td>\n",
       "    </tr>\n",
       "    <tr>\n",
       "      <th>7005</th>\n",
       "      <td>tt9817600</td>\n",
       "      <td>Losers</td>\n",
       "      <td>tvEpisode</td>\n",
       "      <td>8.0</td>\n",
       "      <td>221.0</td>\n",
       "      <td>Documentary,Sport</td>\n",
       "      <td>0</td>\n",
       "    </tr>\n",
       "    <tr>\n",
       "      <th>7006</th>\n",
       "      <td>tt9842922</td>\n",
       "      <td>Firefly Lane</td>\n",
       "      <td>tvEpisode</td>\n",
       "      <td>7.3</td>\n",
       "      <td>380.0</td>\n",
       "      <td>Drama,Romance</td>\n",
       "      <td>0</td>\n",
       "    </tr>\n",
       "    <tr>\n",
       "      <th>7007</th>\n",
       "      <td>tt9865968</td>\n",
       "      <td>Medical Police</td>\n",
       "      <td>tvEpisode</td>\n",
       "      <td>6.6</td>\n",
       "      <td>133.0</td>\n",
       "      <td>Comedy</td>\n",
       "      <td>0</td>\n",
       "    </tr>\n",
       "  </tbody>\n",
       "</table>\n",
       "<p>7008 rows × 7 columns</p>\n",
       "</div>"
      ],
      "text/plain": [
       "        imdb_id                  title       type  rating  numVotes  \\\n",
       "0     tt4052886                Lucifer   tvSeries     8.1  250884.0   \n",
       "1     tt0993840       Army of the Dead      movie     5.8  110780.0   \n",
       "2     tt7255502    The Kominsky Method   tvSeries     8.2   28795.0   \n",
       "3     tt0108778                Friends   tvSeries     8.9  861843.0   \n",
       "4     tt9251798               Ragnarok   tvSeries     7.5   26606.0   \n",
       "...         ...                    ...        ...     ...       ...   \n",
       "7003  tt9777386   Merry Happy Whatever  tvEpisode     6.1     221.0   \n",
       "7004  tt9790434       The Morning Show  tvEpisode     NaN       NaN   \n",
       "7005  tt9817600                 Losers  tvEpisode     8.0     221.0   \n",
       "7006  tt9842922           Firefly Lane  tvEpisode     7.3     380.0   \n",
       "7007  tt9865968         Medical Police  tvEpisode     6.6     133.0   \n",
       "\n",
       "                    genres  isAdult  \n",
       "0      Crime,Drama,Fantasy        0  \n",
       "1      Action,Crime,Horror        0  \n",
       "2             Comedy,Drama        0  \n",
       "3           Comedy,Romance        0  \n",
       "4     Action,Drama,Fantasy        0  \n",
       "...                    ...      ...  \n",
       "7003                Comedy        0  \n",
       "7004                    \\N        0  \n",
       "7005     Documentary,Sport        0  \n",
       "7006         Drama,Romance        0  \n",
       "7007                Comedy        0  \n",
       "\n",
       "[7008 rows x 7 columns]"
      ]
     },
     "execution_count": 14,
     "metadata": {},
     "output_type": "execute_result"
    }
   ],
   "source": [
    "df=pd.read_csv(r\"C:\\Users\\Vishal S\\OneDrive\\Desktop\\net.csv\")\n",
    "df"
   ]
  },
  {
   "cell_type": "code",
   "execution_count": 15,
   "id": "314d73e5-ce16-4635-ac91-15ad21f9e262",
   "metadata": {},
   "outputs": [
    {
     "data": {
      "text/plain": [
       "(7008, 7)"
      ]
     },
     "execution_count": 15,
     "metadata": {},
     "output_type": "execute_result"
    }
   ],
   "source": [
    "df.shape"
   ]
  },
  {
   "cell_type": "code",
   "execution_count": 16,
   "id": "877faa27-1eae-4086-8a94-6d81c79008e0",
   "metadata": {},
   "outputs": [
    {
     "data": {
      "text/plain": [
       "imdb_id        0\n",
       "title          0\n",
       "type           2\n",
       "rating      1008\n",
       "numVotes    1008\n",
       "genres         2\n",
       "isAdult        0\n",
       "dtype: int64"
      ]
     },
     "execution_count": 16,
     "metadata": {},
     "output_type": "execute_result"
    }
   ],
   "source": [
    "df.isnull().sum()"
   ]
  },
  {
   "cell_type": "code",
   "execution_count": 5,
   "id": "7f427bc5-9d8d-4d61-9043-4d8a786257e2",
   "metadata": {},
   "outputs": [],
   "source": [
    "df1= df.dropna()"
   ]
  },
  {
   "cell_type": "code",
   "execution_count": 6,
   "id": "5ecc2df4-df20-420e-ba9e-d25a98c38742",
   "metadata": {},
   "outputs": [
    {
     "data": {
      "text/html": [
       "<div>\n",
       "<style scoped>\n",
       "    .dataframe tbody tr th:only-of-type {\n",
       "        vertical-align: middle;\n",
       "    }\n",
       "\n",
       "    .dataframe tbody tr th {\n",
       "        vertical-align: top;\n",
       "    }\n",
       "\n",
       "    .dataframe thead th {\n",
       "        text-align: right;\n",
       "    }\n",
       "</style>\n",
       "<table border=\"1\" class=\"dataframe\">\n",
       "  <thead>\n",
       "    <tr style=\"text-align: right;\">\n",
       "      <th></th>\n",
       "      <th>imdb_id</th>\n",
       "      <th>title</th>\n",
       "      <th>type</th>\n",
       "      <th>rating</th>\n",
       "      <th>numVotes</th>\n",
       "      <th>genres</th>\n",
       "      <th>isAdult</th>\n",
       "    </tr>\n",
       "  </thead>\n",
       "  <tbody>\n",
       "    <tr>\n",
       "      <th>0</th>\n",
       "      <td>tt4052886</td>\n",
       "      <td>Lucifer</td>\n",
       "      <td>tvSeries</td>\n",
       "      <td>8.1</td>\n",
       "      <td>250884.0</td>\n",
       "      <td>Crime,Drama,Fantasy</td>\n",
       "      <td>0</td>\n",
       "    </tr>\n",
       "    <tr>\n",
       "      <th>1</th>\n",
       "      <td>tt0993840</td>\n",
       "      <td>Army of the Dead</td>\n",
       "      <td>movie</td>\n",
       "      <td>5.8</td>\n",
       "      <td>110780.0</td>\n",
       "      <td>Action,Crime,Horror</td>\n",
       "      <td>0</td>\n",
       "    </tr>\n",
       "    <tr>\n",
       "      <th>2</th>\n",
       "      <td>tt7255502</td>\n",
       "      <td>The Kominsky Method</td>\n",
       "      <td>tvSeries</td>\n",
       "      <td>8.2</td>\n",
       "      <td>28795.0</td>\n",
       "      <td>Comedy,Drama</td>\n",
       "      <td>0</td>\n",
       "    </tr>\n",
       "    <tr>\n",
       "      <th>3</th>\n",
       "      <td>tt0108778</td>\n",
       "      <td>Friends</td>\n",
       "      <td>tvSeries</td>\n",
       "      <td>8.9</td>\n",
       "      <td>861843.0</td>\n",
       "      <td>Comedy,Romance</td>\n",
       "      <td>0</td>\n",
       "    </tr>\n",
       "    <tr>\n",
       "      <th>4</th>\n",
       "      <td>tt9251798</td>\n",
       "      <td>Ragnarok</td>\n",
       "      <td>tvSeries</td>\n",
       "      <td>7.5</td>\n",
       "      <td>26606.0</td>\n",
       "      <td>Action,Drama,Fantasy</td>\n",
       "      <td>0</td>\n",
       "    </tr>\n",
       "    <tr>\n",
       "      <th>...</th>\n",
       "      <td>...</td>\n",
       "      <td>...</td>\n",
       "      <td>...</td>\n",
       "      <td>...</td>\n",
       "      <td>...</td>\n",
       "      <td>...</td>\n",
       "      <td>...</td>\n",
       "    </tr>\n",
       "    <tr>\n",
       "      <th>7002</th>\n",
       "      <td>tt9771894</td>\n",
       "      <td>Ares</td>\n",
       "      <td>tvEpisode</td>\n",
       "      <td>6.5</td>\n",
       "      <td>191.0</td>\n",
       "      <td>Drama,Horror,Mystery</td>\n",
       "      <td>0</td>\n",
       "    </tr>\n",
       "    <tr>\n",
       "      <th>7003</th>\n",
       "      <td>tt9777386</td>\n",
       "      <td>Merry Happy Whatever</td>\n",
       "      <td>tvEpisode</td>\n",
       "      <td>6.1</td>\n",
       "      <td>221.0</td>\n",
       "      <td>Comedy</td>\n",
       "      <td>0</td>\n",
       "    </tr>\n",
       "    <tr>\n",
       "      <th>7005</th>\n",
       "      <td>tt9817600</td>\n",
       "      <td>Losers</td>\n",
       "      <td>tvEpisode</td>\n",
       "      <td>8.0</td>\n",
       "      <td>221.0</td>\n",
       "      <td>Documentary,Sport</td>\n",
       "      <td>0</td>\n",
       "    </tr>\n",
       "    <tr>\n",
       "      <th>7006</th>\n",
       "      <td>tt9842922</td>\n",
       "      <td>Firefly Lane</td>\n",
       "      <td>tvEpisode</td>\n",
       "      <td>7.3</td>\n",
       "      <td>380.0</td>\n",
       "      <td>Drama,Romance</td>\n",
       "      <td>0</td>\n",
       "    </tr>\n",
       "    <tr>\n",
       "      <th>7007</th>\n",
       "      <td>tt9865968</td>\n",
       "      <td>Medical Police</td>\n",
       "      <td>tvEpisode</td>\n",
       "      <td>6.6</td>\n",
       "      <td>133.0</td>\n",
       "      <td>Comedy</td>\n",
       "      <td>0</td>\n",
       "    </tr>\n",
       "  </tbody>\n",
       "</table>\n",
       "<p>6000 rows × 7 columns</p>\n",
       "</div>"
      ],
      "text/plain": [
       "        imdb_id                  title       type  rating  numVotes  \\\n",
       "0     tt4052886                Lucifer   tvSeries     8.1  250884.0   \n",
       "1     tt0993840       Army of the Dead      movie     5.8  110780.0   \n",
       "2     tt7255502    The Kominsky Method   tvSeries     8.2   28795.0   \n",
       "3     tt0108778                Friends   tvSeries     8.9  861843.0   \n",
       "4     tt9251798               Ragnarok   tvSeries     7.5   26606.0   \n",
       "...         ...                    ...        ...     ...       ...   \n",
       "7002  tt9771894                   Ares  tvEpisode     6.5     191.0   \n",
       "7003  tt9777386   Merry Happy Whatever  tvEpisode     6.1     221.0   \n",
       "7005  tt9817600                 Losers  tvEpisode     8.0     221.0   \n",
       "7006  tt9842922           Firefly Lane  tvEpisode     7.3     380.0   \n",
       "7007  tt9865968         Medical Police  tvEpisode     6.6     133.0   \n",
       "\n",
       "                    genres  isAdult  \n",
       "0      Crime,Drama,Fantasy        0  \n",
       "1      Action,Crime,Horror        0  \n",
       "2             Comedy,Drama        0  \n",
       "3           Comedy,Romance        0  \n",
       "4     Action,Drama,Fantasy        0  \n",
       "...                    ...      ...  \n",
       "7002  Drama,Horror,Mystery        0  \n",
       "7003                Comedy        0  \n",
       "7005     Documentary,Sport        0  \n",
       "7006         Drama,Romance        0  \n",
       "7007                Comedy        0  \n",
       "\n",
       "[6000 rows x 7 columns]"
      ]
     },
     "execution_count": 6,
     "metadata": {},
     "output_type": "execute_result"
    }
   ],
   "source": [
    "df1"
   ]
  },
  {
   "cell_type": "code",
   "execution_count": 7,
   "id": "a2684414-ca60-4983-a7c1-15f584e8f291",
   "metadata": {},
   "outputs": [
    {
     "data": {
      "text/plain": [
       "imdb_id     0\n",
       "title       0\n",
       "type        0\n",
       "rating      0\n",
       "numVotes    0\n",
       "genres      0\n",
       "isAdult     0\n",
       "dtype: int64"
      ]
     },
     "execution_count": 7,
     "metadata": {},
     "output_type": "execute_result"
    }
   ],
   "source": [
    "df1.isnull().sum()"
   ]
  },
  {
   "cell_type": "code",
   "execution_count": 8,
   "id": "50bf7bff-6aa3-45ae-a28d-0e840c0a783c",
   "metadata": {},
   "outputs": [
    {
     "data": {
      "text/plain": [
       "rating\n",
       "7.2    247\n",
       "7.3    218\n",
       "6.7    206\n",
       "7.4    204\n",
       "7.1    203\n",
       "      ... \n",
       "9.4      2\n",
       "2.3      2\n",
       "1.9      1\n",
       "1.7      1\n",
       "9.7      1\n",
       "Name: count, Length: 77, dtype: int64"
      ]
     },
     "execution_count": 8,
     "metadata": {},
     "output_type": "execute_result"
    }
   ],
   "source": [
    "df1['rating'].value_counts()"
   ]
  },
  {
   "cell_type": "code",
   "execution_count": null,
   "id": "bd69cb8f-ba8e-4d98-8a73-450060cab870",
   "metadata": {},
   "outputs": [],
   "source": []
  },
  {
   "cell_type": "code",
   "execution_count": 9,
   "id": "2cfc0324-1ebe-45dd-abf5-a502a52ad877",
   "metadata": {},
   "outputs": [],
   "source": [
    "tfidf = TfidfVectorizer(stop_words='english')\n",
    "tfidf_matrix = tfidf.fit_transform(df1['genres'])"
   ]
  },
  {
   "cell_type": "code",
   "execution_count": 10,
   "id": "25e8eb4a-c1a0-4264-8436-e0fb6c3d3e21",
   "metadata": {},
   "outputs": [],
   "source": [
    "cosine_sim = cosine_similarity(tfidf_matrix, tfidf_matrix)"
   ]
  },
  {
   "cell_type": "code",
   "execution_count": 11,
   "id": "5f413d1e-7437-4ca9-af0f-9e86cff8bd8e",
   "metadata": {},
   "outputs": [],
   "source": [
    "def recommend_movie(title, cosine_sim=cosine_sim):\n",
    "    # Get the index of the movie that matches the title\n",
    "    idx = df1[df1['title'] == title].index[0]\n",
    "\n",
    "    # Get a list of cosine similarities for that movie\n",
    "    sim_scores = list(enumerate(cosine_sim[idx]))\n",
    "\n",
    "    # Sort the movies based on similarity scores\n",
    "    sim_scores = sorted(sim_scores, key=lambda x: x[1], reverse=True)\n",
    "\n",
    "    # Get the indices of the most similar movies\n",
    "    sim_scores = sim_scores[1:6]  # Get top 5 recommendations\n",
    "    movie_indices = [i[0] for i in sim_scores]\n",
    "\n",
    "    # Return the top 5 most similar movies\n",
    "    return df['title'].iloc[movie_indices]"
   ]
  },
  {
   "cell_type": "code",
   "execution_count": 12,
   "id": "f88807d9-be0b-4ceb-b7bf-1c01f533be27",
   "metadata": {},
   "outputs": [
    {
     "name": "stdout",
     "output_type": "stream",
     "text": [
      "Recommended Movies for 'Lucifer':\n",
      "125                 Girl From Nowhere\n",
      "231    Jumanji: Welcome to the Jungle\n",
      "249              When Calls the Heart\n",
      "603                        Easy Rider\n",
      "785                           Messiah\n",
      "Name: title, dtype: object\n"
     ]
    }
   ],
   "source": [
    "recommended_movies = recommend_movie('Lucifer')\n",
    "print(\"Recommended Movies for 'Lucifer':\")\n",
    "print(recommended_movies)"
   ]
  },
  {
   "cell_type": "code",
   "execution_count": 13,
   "id": "277866e7-d0d6-40dd-afe2-a7f1eea59d31",
   "metadata": {},
   "outputs": [
    {
     "name": "stdout",
     "output_type": "stream",
     "text": [
      "Recommended Movies for 'Friends':\n",
      "48     How I Met Your Mother\n",
      "236             Unbelievable\n",
      "241             Lo imposible\n",
      "247                   Colony\n",
      "349              Castle Rock\n",
      "Name: title, dtype: object\n"
     ]
    }
   ],
   "source": [
    "recommended_movies = recommend_movie('Friends')\n",
    "print(\"Recommended Movies for 'Friends':\")\n",
    "print(recommended_movies)"
   ]
  },
  {
   "cell_type": "code",
   "execution_count": null,
   "id": "acd0520c-a178-4009-89d6-6f67182c8920",
   "metadata": {},
   "outputs": [],
   "source": []
  },
  {
   "cell_type": "code",
   "execution_count": null,
   "id": "98a65e6e-72d3-4f01-977c-e92e9ca0fa7a",
   "metadata": {},
   "outputs": [],
   "source": []
  }
 ],
 "metadata": {
  "kernelspec": {
   "display_name": "Python 3 (ipykernel)",
   "language": "python",
   "name": "python3"
  },
  "language_info": {
   "codemirror_mode": {
    "name": "ipython",
    "version": 3
   },
   "file_extension": ".py",
   "mimetype": "text/x-python",
   "name": "python",
   "nbconvert_exporter": "python",
   "pygments_lexer": "ipython3",
   "version": "3.12.4"
  }
 },
 "nbformat": 4,
 "nbformat_minor": 5
}
